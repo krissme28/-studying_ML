{
  "nbformat": 4,
  "nbformat_minor": 0,
  "metadata": {
    "colab": {
      "provenance": [],
      "authorship_tag": "ABX9TyOfW6L0hLoXp4MR09FszN/S"
    },
    "kernelspec": {
      "name": "python3",
      "display_name": "Python 3"
    },
    "language_info": {
      "name": "python"
    }
  },
  "cells": [
    {
      "cell_type": "markdown",
      "source": [
        "# Пример атаки отравления с использованием одномерного массива.\n",
        "Допустим, у нас есть задача бинарной классификации, и мы хотим провести атаку на модель, чтобы она стала неправильно классифицировать нулевой класс."
      ],
      "metadata": {
        "id": "yCuevnzVDjhq"
      }
    },
    {
      "cell_type": "code",
      "execution_count": 16,
      "metadata": {
        "id": "RuCIvsKBCxTf"
      },
      "outputs": [],
      "source": [
        "import numpy as np\n",
        "import matplotlib.pyplot as plt\n",
        "\n",
        "X_clean = np.array([1, 2, 3, 4, 5, 6, 7, 8, 9, 10])  # Исходные данные\n",
        "y_clean = np.array([0, 0, 0, 0, 0, 1, 1, 1, 1, 1])  # Метки классов (0 - нормальный класс, 1 - атака)"
      ]
    },
    {
      "cell_type": "code",
      "source": [
        "def generate_poison(X_clean, y_clean, percent_poison):\n",
        "    n_clean = len(X_clean)\n",
        "    #Вычисляет количество атакующих образцов, которое нужно добавить к исходным данным для достижения заданного процента отравления (percent_poison)\n",
        "    num_poison = round((percent_poison * n_clean) / (1 - percent_poison))\n",
        "\n",
        "    #Выбираем случайные индексы для отравления\n",
        "    poison_indices = np.random.choice(n_clean, num_poison, replace=False)\n",
        "\n",
        "    #Создаем копию отравляющих образцов\n",
        "    X_poison = X_clean.copy()\n",
        "    y_poison = y_clean.copy()\n",
        "\n",
        "    #Задаем отравляющее значение\n",
        "    y_poison[poison_indices] = 1\n",
        "\n",
        "    #Объединяем отравленные образцы с исходными данными\n",
        "    X_backdoor = np.concatenate((X_clean, X_poison))\n",
        "    y_backdoor = np.concatenate((y_clean, y_poison))\n",
        "\n",
        "    return X_backdoor, y_backdoor"
      ],
      "metadata": {
        "id": "sPrchkYcC40p"
      },
      "execution_count": 17,
      "outputs": []
    },
    {
      "cell_type": "markdown",
      "source": [
        "percent_poison -  определяет, сколько атакующих образцов добавляется в конец исходных данных."
      ],
      "metadata": {
        "id": "CEsG_FQNmmOt"
      }
    },
    {
      "cell_type": "code",
      "source": [
        "percent_poison = 0.2  #Процент отравления\n",
        "X_backdoor, y_backdoor = generate_poison(X_clean, y_clean, percent_poison)\n",
        "\n",
        "print(\"Исходные данные:\", X_clean)\n",
        "print(\"Метки классов для исходных данных:\", y_clean)\n",
        "print(\"Отравленные данные:\", X_backdoor)\n",
        "print(\"Метки классов для отравленных данных:\", y_backdoor)"
      ],
      "metadata": {
        "colab": {
          "base_uri": "https://localhost:8080/"
        },
        "id": "hA7pNVTcC8UQ",
        "outputId": "ec10a785-dac8-44ea-ea0d-062151d46bb4"
      },
      "execution_count": 18,
      "outputs": [
        {
          "output_type": "stream",
          "name": "stdout",
          "text": [
            "Исходные данные: [ 1  2  3  4  5  6  7  8  9 10]\n",
            "Метки классов для исходных данных: [0 0 0 0 0 1 1 1 1 1]\n",
            "Отравленные данные: [ 1  2  3  4  5  6  7  8  9 10  1  2  3  4  5  6  7  8  9 10]\n",
            "Метки классов для отравленных данных: [0 0 0 0 0 1 1 1 1 1 0 0 0 0 0 1 1 1 1 1]\n"
          ]
        }
      ]
    },
    {
      "cell_type": "markdown",
      "source": [
        "В этом примере мы пытаемся добавить 20% атакующих образцов к исходным данным.  Так как исходные данные содержат 10 элементов (5 \"0\" и 5 \"1\"), то 20% от этого числа равно 2. Таким образом, две случайные точки среди исходных пяти с меткой \"0\" становятся атакующими с меткой \"1\", что приводит к общему числу 12 \"1\" в массиве меток классов для отравленных данных."
      ],
      "metadata": {
        "id": "P9t2Tmk_liC0"
      }
    }
  ]
}