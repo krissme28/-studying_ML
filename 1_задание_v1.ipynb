{
  "nbformat": 4,
  "nbformat_minor": 0,
  "metadata": {
    "colab": {
      "provenance": [],
      "authorship_tag": "ABX9TyNWmM01cjxB0TkxfDFKd405",
      "include_colab_link": true
    },
    "kernelspec": {
      "name": "python3",
      "display_name": "Python 3"
    },
    "language_info": {
      "name": "python"
    }
  },
  "cells": [
    {
      "cell_type": "markdown",
      "metadata": {
        "id": "view-in-github",
        "colab_type": "text"
      },
      "source": [
        "<a href=\"https://colab.research.google.com/github/krissme28/-studying_ML/blob/main/1_%D0%B7%D0%B0%D0%B4%D0%B0%D0%BD%D0%B8%D0%B5_v1.ipynb\" target=\"_parent\"><img src=\"https://colab.research.google.com/assets/colab-badge.svg\" alt=\"Open In Colab\"/></a>"
      ]
    },
    {
      "cell_type": "markdown",
      "source": [
        "Пример атаки отравления с использованием одномерного массива. Допустим, у нас есть задача бинарной классификации, и мы хотим провести атаку на модель, чтобы она стала неправильно классифицировать нулевой класс."
      ],
      "metadata": {
        "id": "yCuevnzVDjhq"
      }
    },
    {
      "cell_type": "code",
      "execution_count": 1,
      "metadata": {
        "id": "RuCIvsKBCxTf"
      },
      "outputs": [],
      "source": [
        "import numpy as np\n",
        "\n",
        "X_clean = np.array([1, 2, 3, 4, 5, 6, 7, 8, 9, 10])  # Исходные данные\n",
        "y_clean = np.array([0, 0, 0, 0, 0, 1, 1, 1, 1, 1])  # Метки классов (0 - нормальный класс, 1 - атака)"
      ]
    },
    {
      "cell_type": "code",
      "source": [
        "def generate_poison(X_clean, y_clean, percent_poison):\n",
        "    n_clean = len(X_clean)\n",
        "    num_poison = round((percent_poison * n_clean) / (1 - percent_poison))\n",
        "\n",
        "    # Выбираем случайные индексы для отравления\n",
        "    poison_indices = np.random.choice(n_clean, num_poison, replace=False)\n",
        "\n",
        "    # Создаем копию отравляющих образцов\n",
        "    X_poison = X_clean.copy()\n",
        "    y_poison = y_clean.copy()\n",
        "\n",
        "    # Задаем отравляющее значение\n",
        "    y_poison[poison_indices] = 1\n",
        "\n",
        "    # Объединяем отравленные образцы с исходными данными\n",
        "    X_backdoor = np.concatenate((X_clean, X_poison))\n",
        "    y_backdoor = np.concatenate((y_clean, y_poison))\n",
        "\n",
        "    return X_backdoor, y_backdoor"
      ],
      "metadata": {
        "id": "sPrchkYcC40p"
      },
      "execution_count": 2,
      "outputs": []
    },
    {
      "cell_type": "code",
      "source": [
        "percent_poison = 0.2  # Процент отравления\n",
        "X_backdoor, y_backdoor = generate_poison(X_clean, y_clean, percent_poison)\n",
        "\n",
        "print(\"Исходные данные:\", X_clean)\n",
        "print(\"Метки классов для исходных данных:\", y_clean)\n",
        "print(\"Отравленные данные:\", X_backdoor)\n",
        "print(\"Метки классов для отравленных данных:\", y_backdoor)"
      ],
      "metadata": {
        "colab": {
          "base_uri": "https://localhost:8080/"
        },
        "id": "hA7pNVTcC8UQ",
        "outputId": "2663fdbc-66d2-4510-8ec7-e07a8a4f6087"
      },
      "execution_count": 5,
      "outputs": [
        {
          "output_type": "stream",
          "name": "stdout",
          "text": [
            "Исходные данные: [ 1  2  3  4  5  6  7  8  9 10]\n",
            "Метки классов для исходных данных: [0 0 0 0 0 1 1 1 1 1]\n",
            "Отравленные данные: [ 1  2  3  4  5  6  7  8  9 10  1  2  3  4  5  6  7  8  9 10]\n",
            "Метки классов для отравленных данных: [0 0 0 0 0 1 1 1 1 1 1 0 0 0 1 1 1 1 1 1]\n"
          ]
        }
      ]
    },
    {
      "cell_type": "code",
      "source": [
        "# Проценты отравления для анализа\n",
        "percentages = [0.1, 0.2, 0.3, 0.4, 0.5]\n",
        "\n",
        "for percent in percentages:\n",
        "    X_backdoor, y_backdoor = generate_poison(X_clean, y_clean, percent)\n",
        "    changed_percent = (sum(y_backdoor) - sum(y_clean)) / len(y_clean) * 100\n",
        "    print(\"Процент отравления:\", percent * 100)\n",
        "    print(\"Изменилось в процентах:\", changed_percent)\n",
        "    print(\"-\" * 30)"
      ],
      "metadata": {
        "colab": {
          "base_uri": "https://localhost:8080/"
        },
        "id": "-BF5SJB8DbT1",
        "outputId": "9eda91ad-e43c-4d75-fe08-d1029d44f0dc"
      },
      "execution_count": 6,
      "outputs": [
        {
          "output_type": "stream",
          "name": "stdout",
          "text": [
            "Процент отравления: 10.0\n",
            "Изменилось в процентах: 50.0\n",
            "------------------------------\n",
            "Процент отравления: 20.0\n",
            "Изменилось в процентах: 60.0\n",
            "------------------------------\n",
            "Процент отравления: 30.0\n",
            "Изменилось в процентах: 80.0\n",
            "------------------------------\n",
            "Процент отравления: 40.0\n",
            "Изменилось в процентах: 90.0\n",
            "------------------------------\n",
            "Процент отравления: 50.0\n",
            "Изменилось в процентах: 100.0\n",
            "------------------------------\n"
          ]
        }
      ]
    }
  ]
}